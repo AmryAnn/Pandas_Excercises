{
 "cells": [
  {
   "cell_type": "markdown",
   "id": "ee0f2577",
   "metadata": {},
   "source": [
    "# Pandas Project - Amy R.\n",
    "\n",
    "#### Click the dataset link to get to the completed exercises."
   ]
  },
  {
   "cell_type": "markdown",
   "id": "34c3a4ea",
   "metadata": {},
   "source": [
    "### Exercise 1. Getting & Knowing Your Data\n",
    "[Chipotle Dataset](01_Getting_&_Knowing_Your_Data/01_Chipotle_Exercises.ipynb)"
   ]
  },
  {
   "cell_type": "markdown",
   "id": "9ee298bf",
   "metadata": {},
   "source": [
    "### Exercise 2. Filtering & Sorting\n",
    "[Euro12 Dataset](02_Filtering_&_Sorting/02_Euro12_Exercises.ipynb)"
   ]
  },
  {
   "cell_type": "markdown",
   "id": "98add8ec",
   "metadata": {},
   "source": [
    "### Exercise 3. Grouping\n",
    "[Regiment Dataset](03_Grouping/03_Regiment_Exercises.ipynb)"
   ]
  },
  {
   "cell_type": "markdown",
   "id": "d45668ec",
   "metadata": {},
   "source": [
    "### Exercise 4. Apply\n",
    "[US Crime Dataset](04_Apply/04_USCrime_Exercises.ipynb)"
   ]
  },
  {
   "cell_type": "markdown",
   "id": "b9f49b7d",
   "metadata": {},
   "source": [
    "### Exercise 5. Merge\n",
    "[Fictitious Names Dataset](05_Merge/05_FictitiousNames_Exercises.ipynb)"
   ]
  },
  {
   "cell_type": "markdown",
   "id": "8a22fd19",
   "metadata": {},
   "source": [
    "### Exercise 6. Stats\n",
    "[Wind Stats Dataset](06_Stats/06_WindStats_Exercises.ipynb)"
   ]
  },
  {
   "cell_type": "markdown",
   "id": "721b5f72",
   "metadata": {},
   "source": [
    "### Exercise 7. Visualization\n",
    "[Online Retail Dataset](07_Visualization/07_OnlineRetail_Exercises.ipynb)"
   ]
  },
  {
   "cell_type": "markdown",
   "id": "6440c531",
   "metadata": {},
   "source": [
    "### Exercise 8. Creating Series and Data Frames\n",
    "[Pokemon Dataset](08_Creating_Series_and_DataFrames/08_Pokemon_Exercises.ipynb)"
   ]
  },
  {
   "cell_type": "markdown",
   "id": "5669dc90",
   "metadata": {},
   "source": [
    "### Exercise 9. Time Series\n",
    "[Apple Stock Dataset](09_Time_Series/09_AppleStock_Exercises.ipynb)"
   ]
  },
  {
   "cell_type": "markdown",
   "id": "19edbcc6",
   "metadata": {},
   "source": [
    "### Exercise 10. Deleting\n",
    "[Iris Dataset](10_Deleting/10_Iris_Exercises.ipynb)"
   ]
  }
 ],
 "metadata": {
  "kernelspec": {
   "display_name": "Python 3",
   "language": "python",
   "name": "python3"
  },
  "language_info": {
   "codemirror_mode": {
    "name": "ipython",
    "version": 3
   },
   "file_extension": ".py",
   "mimetype": "text/x-python",
   "name": "python",
   "nbconvert_exporter": "python",
   "pygments_lexer": "ipython3",
   "version": "3.8.8"
  }
 },
 "nbformat": 4,
 "nbformat_minor": 5
}
